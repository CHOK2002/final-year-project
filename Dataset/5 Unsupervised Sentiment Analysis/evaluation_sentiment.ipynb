{
 "cells": [
  {
   "cell_type": "markdown",
   "metadata": {},
   "source": [
    "Evaluate by comparing labeled data from git (Compare with Vader, Afinn, Textblob, Kmeans)"
   ]
  },
  {
   "cell_type": "code",
   "execution_count": 37,
   "metadata": {},
   "outputs": [
    {
     "data": {
      "text/html": [
       "<div>\n",
       "<style scoped>\n",
       "    .dataframe tbody tr th:only-of-type {\n",
       "        vertical-align: middle;\n",
       "    }\n",
       "\n",
       "    .dataframe tbody tr th {\n",
       "        vertical-align: top;\n",
       "    }\n",
       "\n",
       "    .dataframe thead th {\n",
       "        text-align: right;\n",
       "    }\n",
       "</style>\n",
       "<table border=\"1\" class=\"dataframe\">\n",
       "  <thead>\n",
       "    <tr style=\"text-align: right;\">\n",
       "      <th></th>\n",
       "      <th>title</th>\n",
       "      <th>url</th>\n",
       "      <th>classification</th>\n",
       "      <th>date</th>\n",
       "      <th>publisher</th>\n",
       "      <th>afinn_sentiment</th>\n",
       "    </tr>\n",
       "  </thead>\n",
       "  <tbody>\n",
       "    <tr>\n",
       "      <th>0</th>\n",
       "      <td>Attacks leave a Jewish community on edge as le...</td>\n",
       "      <td>https://www.theguardian.com/us-news/2019/dec/2...</td>\n",
       "      <td>1</td>\n",
       "      <td>29-12-19 19:00</td>\n",
       "      <td>The Guardian</td>\n",
       "      <td>negative</td>\n",
       "    </tr>\n",
       "    <tr>\n",
       "      <th>1</th>\n",
       "      <td>US military carries out 'defensive strikes' in...</td>\n",
       "      <td>https://www.theguardian.com/us-news/2019/dec/2...</td>\n",
       "      <td>0</td>\n",
       "      <td>29-12-19 21:16</td>\n",
       "      <td>The Guardian</td>\n",
       "      <td>negative</td>\n",
       "    </tr>\n",
       "    <tr>\n",
       "      <th>2</th>\n",
       "      <td>Rebecca Long-Bailey makes opening pitch for La...</td>\n",
       "      <td>https://www.theguardian.com/politics/2019/dec/...</td>\n",
       "      <td>1</td>\n",
       "      <td>29-12-19 22:30</td>\n",
       "      <td>The Guardian</td>\n",
       "      <td>positive</td>\n",
       "    </tr>\n",
       "    <tr>\n",
       "      <th>3</th>\n",
       "      <td>Vaughan Oliver, celebrated 4AD graphic designe...</td>\n",
       "      <td>https://www.theguardian.com/music/2019/dec/29/...</td>\n",
       "      <td>0</td>\n",
       "      <td>29-12-19 21:31</td>\n",
       "      <td>The Guardian</td>\n",
       "      <td>positive</td>\n",
       "    </tr>\n",
       "    <tr>\n",
       "      <th>4</th>\n",
       "      <td>'Remarkable' high as Scottish temperature reco...</td>\n",
       "      <td>https://www.theguardian.com/uk-news/2019/dec/2...</td>\n",
       "      <td>1</td>\n",
       "      <td>29-12-19 22:37</td>\n",
       "      <td>The Guardian</td>\n",
       "      <td>positive</td>\n",
       "    </tr>\n",
       "  </tbody>\n",
       "</table>\n",
       "</div>"
      ],
      "text/plain": [
       "                                               title  \\\n",
       "0  Attacks leave a Jewish community on edge as le...   \n",
       "1  US military carries out 'defensive strikes' in...   \n",
       "2  Rebecca Long-Bailey makes opening pitch for La...   \n",
       "3  Vaughan Oliver, celebrated 4AD graphic designe...   \n",
       "4  'Remarkable' high as Scottish temperature reco...   \n",
       "\n",
       "                                                 url  classification  \\\n",
       "0  https://www.theguardian.com/us-news/2019/dec/2...               1   \n",
       "1  https://www.theguardian.com/us-news/2019/dec/2...               0   \n",
       "2  https://www.theguardian.com/politics/2019/dec/...               1   \n",
       "3  https://www.theguardian.com/music/2019/dec/29/...               0   \n",
       "4  https://www.theguardian.com/uk-news/2019/dec/2...               1   \n",
       "\n",
       "             date     publisher afinn_sentiment  \n",
       "0  29-12-19 19:00  The Guardian        negative  \n",
       "1  29-12-19 21:16  The Guardian        negative  \n",
       "2  29-12-19 22:30  The Guardian        positive  \n",
       "3  29-12-19 21:31  The Guardian        positive  \n",
       "4  29-12-19 22:37  The Guardian        positive  "
      ]
     },
     "execution_count": 37,
     "metadata": {},
     "output_type": "execute_result"
    }
   ],
   "source": [
    "import pandas as pd\n",
    "\n",
    "# load the dataset\n",
    "df = pd.read_csv('labelled_news_headline.csv')\n",
    "df.head(5)"
   ]
  },
  {
   "cell_type": "code",
   "execution_count": 38,
   "metadata": {},
   "outputs": [
    {
     "name": "stdout",
     "output_type": "stream",
     "text": [
      "The Guardian    9180\n",
      "BBC             9164\n",
      "CNN             8973\n",
      "Name: publisher, dtype: int64\n"
     ]
    }
   ],
   "source": [
    "print(df['publisher'].value_counts())"
   ]
  },
  {
   "cell_type": "markdown",
   "metadata": {},
   "source": [
    "Clean labelled dataset (Git)"
   ]
  },
  {
   "cell_type": "code",
   "execution_count": 39,
   "metadata": {},
   "outputs": [
    {
     "name": "stdout",
     "output_type": "stream",
     "text": [
      "Filtered data saved to CNN_labelled_news_headline.csv\n"
     ]
    }
   ],
   "source": [
    "import pandas as pd\n",
    "\n",
    "# load the dataset\n",
    "file_path = 'labelled_news_headline.csv'\n",
    "df = pd.read_csv(file_path)\n",
    "\n",
    "# filter the data that is CNN only\n",
    "df = df[df['publisher'] == 'CNN']\n",
    "\n",
    "# decode label\n",
    "df['classification'] = df['classification'].map({1: 'positive', 0: 'negative'})\n",
    "\n",
    "# select column \n",
    "df = df[['title', 'classification']]\n",
    "\n",
    "# change selected column name\n",
    "df = df.rename(columns={'title': 'headline', 'classification': 'label_sentiment'})\n",
    "\n",
    "# drop duplicated\n",
    "df = df.drop_duplicates()\n",
    "\n",
    "# save new CSV file\n",
    "output_path = 'CNN_labelled_news_headline.csv'\n",
    "df.to_csv(output_path, index=False)\n",
    "\n",
    "print(f\"Filtered data saved to {output_path}\")"
   ]
  },
  {
   "cell_type": "code",
   "execution_count": 42,
   "metadata": {},
   "outputs": [
    {
     "data": {
      "text/plain": [
       "(8206, 2)"
      ]
     },
     "execution_count": 42,
     "metadata": {},
     "output_type": "execute_result"
    }
   ],
   "source": [
    "df.shape"
   ]
  },
  {
   "cell_type": "markdown",
   "metadata": {},
   "source": [
    "Vader"
   ]
  },
  {
   "cell_type": "code",
   "execution_count": 43,
   "metadata": {},
   "outputs": [],
   "source": [
    "# import pandas as pd\n",
    "\n",
    "# # load the dataset\n",
    "# df = pd.read_csv('CNN_labelled_news_headline.csv')\n",
    "\n",
    "# import pandas as pd\n",
    "# from vaderSentiment.vaderSentiment import SentimentIntensityAnalyzer\n",
    "\n",
    "# # VADER sentiment analyzer\n",
    "# analyzer = SentimentIntensityAnalyzer()\n",
    "\n",
    "# # classify sentiment\n",
    "# def classify_sentiment(text):\n",
    "#     # sentiment scores\n",
    "#     scores = analyzer.polarity_scores(text)\n",
    "#     # compound score\n",
    "#     compound = scores['compound']\n",
    "#     # sentiment based on the compound score\n",
    "#     if compound >= 0.05:\n",
    "#         return 'positive'\n",
    "#     elif compound <= -0.05:\n",
    "#         return 'negative'\n",
    "#     else:\n",
    "#         return 'neutral'\n",
    "    \n",
    "# df['vader_sentiment'] = df['headline'].apply(classify_sentiment)\n",
    "\n",
    "# df.to_csv('CNN_labelled_news_headline_vader.csv', index=False)\n"
   ]
  },
  {
   "cell_type": "markdown",
   "metadata": {},
   "source": [
    "Afinn"
   ]
  },
  {
   "cell_type": "code",
   "execution_count": 46,
   "metadata": {},
   "outputs": [],
   "source": [
    "# import pandas as pd\n",
    "\n",
    "# # load the dataset\n",
    "# df = pd.read_csv('CNN_labelled_news_headline.csv')\n",
    "\n",
    "# from afinn import Afinn\n",
    "\n",
    "# # afinn sentiment analyzer\n",
    "# afinn = Afinn()\n",
    "\n",
    "# # classify sentiment\n",
    "# def classify_sentiment(text):\n",
    "#     # sentiment score\n",
    "#     score = afinn.score(text)\n",
    "#     # sentiment based on the score\n",
    "#     if score > 0:\n",
    "#         return 'positive'\n",
    "#     elif score < 0:\n",
    "#         return 'negative'\n",
    "#     else:\n",
    "#         return 'neutral'\n",
    "    \n",
    "# df['afinn_sentiment'] = df['headline'].apply(classify_sentiment)\n",
    "\n",
    "# df.to_csv('CNN_labelled_news_headline_afinn.csv', index=False)"
   ]
  },
  {
   "cell_type": "markdown",
   "metadata": {},
   "source": [
    "Textblob"
   ]
  },
  {
   "cell_type": "code",
   "execution_count": 49,
   "metadata": {},
   "outputs": [],
   "source": [
    "# import pandas as pd\n",
    "\n",
    "# #load the dataset\n",
    "# df = pd.read_csv('CNN_labelled_news_headline.csv')\n",
    "\n",
    "# from textblob import TextBlob\n",
    "\n",
    "# # classify sentiment\n",
    "# def classify_sentiment(text):\n",
    "#     analysis = TextBlob(text)\n",
    "#     polarity = analysis.sentiment.polarity\n",
    "    \n",
    "#     if polarity > 0:\n",
    "#         return 'positive'\n",
    "#     elif polarity < 0:\n",
    "#         return 'negative'\n",
    "#     else:\n",
    "#         return 'neutral'\n",
    "    \n",
    "# df['textblob_sentiment'] = df['headline'].apply(classify_sentiment)\n",
    "\n",
    "# df.to_csv('CNN_labelled_news_headline_textblob.csv', index=False)\n"
   ]
  },
  {
   "cell_type": "markdown",
   "metadata": {},
   "source": [
    "Kmeans Clustering"
   ]
  },
  {
   "cell_type": "code",
   "execution_count": 54,
   "metadata": {},
   "outputs": [
    {
     "name": "stderr",
     "output_type": "stream",
     "text": [
      "c:\\Users\\ChokJoe\\anaconda3\\Lib\\site-packages\\sklearn\\cluster\\_kmeans.py:870: FutureWarning: The default value of `n_init` will change from 10 to 'auto' in 1.4. Set the value of `n_init` explicitly to suppress the warning\n",
      "  warnings.warn(\n"
     ]
    }
   ],
   "source": [
    "import pandas as pd\n",
    "from sklearn.feature_extraction.text import TfidfVectorizer\n",
    "from sklearn.cluster import KMeans\n",
    "from sklearn.preprocessing import LabelEncoder\n",
    "\n",
    "# load dataset\n",
    "df = pd.read_csv('CNN_labelled_news_headline.csv')\n",
    "\n",
    "headlines = df['headline'].tolist()\n",
    "\n",
    "# TF-IDF Vetorizer\n",
    "vectorizer = TfidfVectorizer(max_features=1000)\n",
    "X = vectorizer.fit_transform(headlines)\n",
    "\n",
    "# kmeans clustering\n",
    "num_clusters = 3  # nega posi neutral\n",
    "kmeans = KMeans(n_clusters=num_clusters, random_state=42)\n",
    "kmeans.fit(X)\n",
    "\n",
    "# assign sentiment labels to clusters\n",
    "cluster_centers = kmeans.cluster_centers_\n",
    "cluster_labels = kmeans.labels_\n",
    "\n",
    "# clusters and their labels\n",
    "df['cluster_label'] = kmeans.labels_\n",
    "\n",
    "label_encoder = LabelEncoder()\n",
    "df['kmeans_sentiment'] = label_encoder.fit_transform(df['cluster_label'])\n",
    "\n",
    "# print(df[['headline', 'kmeans_sentiment']])\n",
    "\n",
    "# decode back to negative, positive, neutral\n",
    "inverse_mapping = {0: 'negative', 1: 'positive', 2: 'neutral'}\n",
    "df['kmeans_sentiment'] = df['kmeans_sentiment'].map(inverse_mapping)\n",
    "\n",
    "df.drop(columns=['cluster_label'], inplace=True)\n",
    "\n",
    "# print(df[['headline', 'kmeans_sentiment']])\n",
    "\n",
    "df.to_csv('CNN_labelled_news_headline_kmeans.csv', index=False)\n",
    "\n"
   ]
  },
  {
   "cell_type": "markdown",
   "metadata": {},
   "source": [
    "Create New Column "
   ]
  },
  {
   "cell_type": "code",
   "execution_count": 55,
   "metadata": {},
   "outputs": [
    {
     "name": "stdout",
     "output_type": "stream",
     "text": [
      "Processing complete. New CSV file saved as CNN_labelled_news_headline_kmeans.csv\n"
     ]
    }
   ],
   "source": [
    "import pandas as pd\n",
    "\n",
    "# Read the CSV file\n",
    "input_file = 'CNN_labelled_news_headline_kmeans.csv'  # Replace with your input CSV file path\n",
    "output_file = 'CNN_labelled_news_headline_kmeans.csv'  # Replace with the desired output CSV file path\n",
    "\n",
    "data = pd.read_csv(input_file)\n",
    "\n",
    "# Compare sentiment and annotation columns (case-insensitive), create a new column with 1 or 0\n",
    "data['new_column'] = data.apply(\n",
    "    lambda row: 1 if ((row['kmeans_sentiment'] in ['positive', 'neutral'] and row['label_sentiment'] in ['positive', 'neutral']) or \n",
    "                      (row['kmeans_sentiment'] == 'negative' and row['label_sentiment'] == 'negative')) \n",
    "                else 0, \n",
    "    axis=1\n",
    ")\n",
    "# Save the modified data to a new CSV file\n",
    "data.to_csv(output_file, index=False)\n",
    "\n",
    "print(\"Processing complete. New CSV file saved as\", output_file)\n"
   ]
  },
  {
   "cell_type": "markdown",
   "metadata": {},
   "source": [
    "Count same occurrence"
   ]
  },
  {
   "cell_type": "code",
   "execution_count": 56,
   "metadata": {},
   "outputs": [
    {
     "name": "stdout",
     "output_type": "stream",
     "text": [
      "1    4132\n",
      "0    4074\n",
      "Name: new_column, dtype: int64\n",
      "Total occurrences: 8206\n"
     ]
    }
   ],
   "source": [
    "import pandas as pd\n",
    "\n",
    "# 1. Load the CSV file\n",
    "data = pd.read_csv('CNN_labelled_news_headline_kmeans.csv')\n",
    "\n",
    "# Count the occurrences of each unique category in the 'annotation' column\n",
    "category_counts = data['new_column'].value_counts()\n",
    "\n",
    "# # Get the total number of occurrences\n",
    "total_occurrences = category_counts.sum()\n",
    "\n",
    "# Print the results\n",
    "# Print the results\n",
    "print(category_counts)\n",
    "print(\"Total occurrences:\", total_occurrences)"
   ]
  },
  {
   "cell_type": "markdown",
   "metadata": {},
   "source": [
    "### Evaluation \n",
    "\n",
    "### Vader \n",
    "\n",
    "1 = 5677\n",
    "\n",
    "0 = 2529\n",
    "\n",
    "5677/8206 = 0.6918\n",
    "\n",
    "= 69%\n",
    "\n",
    "### Afinn\n",
    "\n",
    "1 = 5896\n",
    "\n",
    "0 = 2310\n",
    "\n",
    "5896/8206 = 0.7184\n",
    "\n",
    "= 72%\n",
    "\n",
    "### Textblob\n",
    "\n",
    "1 = 4729\n",
    "\n",
    "0 = 3477\n",
    "\n",
    "4729/8206 = 0.5763\n",
    "\n",
    "= 58%\n",
    "\n",
    "### Kmeans\n",
    "\n",
    "1 = 4132\n",
    "\n",
    "0 = 4074\n",
    "\n",
    "4132/8206 = 0.5035\n",
    "\n",
    "= 50%\n"
   ]
  }
 ],
 "metadata": {
  "kernelspec": {
   "display_name": "base",
   "language": "python",
   "name": "python3"
  },
  "language_info": {
   "codemirror_mode": {
    "name": "ipython",
    "version": 3
   },
   "file_extension": ".py",
   "mimetype": "text/x-python",
   "name": "python",
   "nbconvert_exporter": "python",
   "pygments_lexer": "ipython3",
   "version": "3.11.9"
  }
 },
 "nbformat": 4,
 "nbformat_minor": 2
}
