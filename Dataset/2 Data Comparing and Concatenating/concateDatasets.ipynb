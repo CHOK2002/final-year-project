{
 "cells": [
  {
   "cell_type": "markdown",
   "metadata": {},
   "source": [
    "Check Column and Rows Before Merging "
   ]
  },
  {
   "cell_type": "code",
   "execution_count": 1,
   "metadata": {},
   "outputs": [
    {
     "name": "stdout",
     "output_type": "stream",
     "text": [
      "News_Articles_1: 4076 rows, 11 columns\n",
      "News_Articles_2: 37949 rows, 11 columns\n",
      "News_Articles_3: 3928 rows, 7 columns\n"
     ]
    }
   ],
   "source": [
    "import pandas as pd\n",
    "\n",
    "# load the datasets\n",
    "news_article_1 = pd.read_csv(\"News_Articles_1.csv\")  \n",
    "news_article_2 = pd.read_csv(\"News_Articles_2.csv\")  \n",
    "news_article_3 = pd.read_csv(\"News_Articles_3.csv\")  \n",
    "\n",
    "# get the number of rows and columns for both datasets\n",
    "rows_1, columns_1 = news_article_1.shape\n",
    "rows_2, columns_2 = news_article_2.shape\n",
    "rows_3, columns_3 = news_article_3.shape\n",
    "\n",
    "# print the results\n",
    "print(\"News_Articles_1:\", rows_1, \"rows,\", columns_1, \"columns\")\n",
    "print(\"News_Articles_2:\", rows_2, \"rows,\", columns_2, \"columns\")\n",
    "print(\"News_Articles_3:\", rows_3, \"rows,\", columns_3, \"columns\")\n"
   ]
  },
  {
   "cell_type": "markdown",
   "metadata": {},
   "source": [
    "Data Concatenating with 3 files"
   ]
  },
  {
   "cell_type": "code",
   "execution_count": 2,
   "metadata": {},
   "outputs": [
    {
     "name": "stdout",
     "output_type": "stream",
     "text": [
      "News_Articles_Final CSV had saved\n"
     ]
    }
   ],
   "source": [
    "import pandas as pd\n",
    "\n",
    "# load the datasets \n",
    "df1 = pd.read_csv(\"News_Articles_1.csv\")\n",
    "df2 = pd.read_csv(\"News_Articles_2.csv\")\n",
    "df3 = pd.read_csv(\"News_Articles_3.csv\")\n",
    "\n",
    "# combine the two datasets\n",
    "merge_df = pd.concat([df1, df2, df3], ignore_index=True)\n",
    "\n",
    "# save the combined datasets into new CSV file\n",
    "merge_df.to_csv(\"News_Articles_Final.csv\", index=False)\n",
    "\n",
    "print(\"News_Articles_Final CSV had saved\")\n"
   ]
  },
  {
   "cell_type": "markdown",
   "metadata": {},
   "source": [
    "Check total columns and rows after concatenating with 3 files"
   ]
  },
  {
   "cell_type": "code",
   "execution_count": 3,
   "metadata": {},
   "outputs": [
    {
     "name": "stdout",
     "output_type": "stream",
     "text": [
      "Number of rows: 45953\n",
      "Number of columns: 12\n"
     ]
    }
   ],
   "source": [
    "import pandas as pd\n",
    "\n",
    "# load the dataset\n",
    "df = pd.read_csv(\"News_Articles_Final.csv\")\n",
    "\n",
    "# get the number of rows and columns\n",
    "rows, cols = df.shape\n",
    "\n",
    "# print the results\n",
    "print(\"Number of rows:\", rows)\n",
    "print(\"Number of columns:\", cols)"
   ]
  }
 ],
 "metadata": {
  "kernelspec": {
   "display_name": "base",
   "language": "python",
   "name": "python3"
  },
  "language_info": {
   "codemirror_mode": {
    "name": "ipython",
    "version": 3
   },
   "file_extension": ".py",
   "mimetype": "text/x-python",
   "name": "python",
   "nbconvert_exporter": "python",
   "pygments_lexer": "ipython3",
   "version": "3.11.9"
  }
 },
 "nbformat": 4,
 "nbformat_minor": 2
}
