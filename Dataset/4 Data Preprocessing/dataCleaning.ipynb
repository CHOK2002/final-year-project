{
 "cells": [
  {
   "cell_type": "markdown",
   "metadata": {},
   "source": [
    "Data Cleaning"
   ]
  },
  {
   "cell_type": "code",
   "execution_count": 1,
   "metadata": {},
   "outputs": [],
   "source": [
    "import pandas as pd\n",
    "\n",
    "# load the dataset\n",
    "df = pd.read_csv('News_Articles_Final.csv')"
   ]
  },
  {
   "cell_type": "markdown",
   "metadata": {},
   "source": [
    "Select the Columns that used for this assignment/ relevant to the scopes"
   ]
  },
  {
   "cell_type": "code",
   "execution_count": 2,
   "metadata": {},
   "outputs": [],
   "source": [
    "import pandas as pd\n",
    "\n",
    "# load the dataset\n",
    "df = pd.read_csv('News_Articles_Final.csv')\n",
    "\n",
    "# select the selected columns\n",
    "df = df[['Date published', 'Category', 'Headline', 'Article text']]"
   ]
  },
  {
   "cell_type": "markdown",
   "metadata": {},
   "source": [
    "Renamned columns"
   ]
  },
  {
   "cell_type": "code",
   "execution_count": 3,
   "metadata": {},
   "outputs": [],
   "source": [
    "# Rename the columns\n",
    "df = df.rename(columns={\n",
    "    'Date published': 'date published',\n",
    "    'Category': 'category',\n",
    "    'Headline': 'headline',\n",
    "    'Article text': 'text'\n",
    "})"
   ]
  },
  {
   "cell_type": "markdown",
   "metadata": {},
   "source": [
    "Drop N/A (Except Date Published)"
   ]
  },
  {
   "cell_type": "code",
   "execution_count": 4,
   "metadata": {},
   "outputs": [
    {
     "name": "stdout",
     "output_type": "stream",
     "text": [
      "Before Drop: \n",
      "date published    3928\n",
      "category             0\n",
      "headline             0\n",
      "text                 9\n",
      "dtype: int64\n",
      "\n",
      "After Drop: \n",
      "date published    3928\n",
      "category             0\n",
      "headline             0\n",
      "text                 0\n",
      "dtype: int64\n"
     ]
    }
   ],
   "source": [
    "# drop missing values\n",
    "print(\"Before Drop: \")\n",
    "print(df.isnull().sum())\n",
    "\n",
    "df = df.dropna(subset=['text'])\n",
    "\n",
    "print(\"\\nAfter Drop: \")\n",
    "print(df.isnull().sum())"
   ]
  },
  {
   "cell_type": "markdown",
   "metadata": {},
   "source": [
    "Drop Duplicated"
   ]
  },
  {
   "cell_type": "code",
   "execution_count": 5,
   "metadata": {},
   "outputs": [
    {
     "name": "stdout",
     "output_type": "stream",
     "text": [
      "Total Duplicated: 4032\n"
     ]
    },
    {
     "data": {
      "text/html": [
       "<div>\n",
       "<style scoped>\n",
       "    .dataframe tbody tr th:only-of-type {\n",
       "        vertical-align: middle;\n",
       "    }\n",
       "\n",
       "    .dataframe tbody tr th {\n",
       "        vertical-align: top;\n",
       "    }\n",
       "\n",
       "    .dataframe thead th {\n",
       "        text-align: right;\n",
       "    }\n",
       "</style>\n",
       "<table border=\"1\" class=\"dataframe\">\n",
       "  <thead>\n",
       "    <tr style=\"text-align: right;\">\n",
       "      <th></th>\n",
       "      <th>date published</th>\n",
       "      <th>category</th>\n",
       "      <th>headline</th>\n",
       "      <th>text</th>\n",
       "    </tr>\n",
       "  </thead>\n",
       "  <tbody>\n",
       "    <tr>\n",
       "      <th>4076</th>\n",
       "      <td>2021-07-15 02:46:59</td>\n",
       "      <td>news</td>\n",
       "      <td>There's a shortage of truckers, but TuSimple t...</td>\n",
       "      <td>(CNN)Right now, there's a shortage of truck d...</td>\n",
       "    </tr>\n",
       "    <tr>\n",
       "      <th>4077</th>\n",
       "      <td>2021-05-12 07:52:09</td>\n",
       "      <td>news</td>\n",
       "      <td>Bioservo's robotic 'Ironhand' could protect fa...</td>\n",
       "      <td>(CNN)Working in a factory or warehouse can me...</td>\n",
       "    </tr>\n",
       "    <tr>\n",
       "      <th>4078</th>\n",
       "      <td>2021-06-16 02:51:30</td>\n",
       "      <td>news</td>\n",
       "      <td>This swarm of robots gets smarter the more it ...</td>\n",
       "      <td>(CNN)In a Hong Kong warehouse, a swarm of aut...</td>\n",
       "    </tr>\n",
       "    <tr>\n",
       "      <th>4094</th>\n",
       "      <td>2022-03-03 05:17:39</td>\n",
       "      <td>business</td>\n",
       "      <td>India's young investors prefer crypto to gold ...</td>\n",
       "      <td>New Delhi (CNN Business)Indian businesswoman S...</td>\n",
       "    </tr>\n",
       "    <tr>\n",
       "      <th>4095</th>\n",
       "      <td>2022-02-01 10:44:06</td>\n",
       "      <td>business</td>\n",
       "      <td>India budget 2022: Digital rupee and crypto ta...</td>\n",
       "      <td>New Delhi (CNN Business)India is planning to l...</td>\n",
       "    </tr>\n",
       "    <tr>\n",
       "      <th>...</th>\n",
       "      <td>...</td>\n",
       "      <td>...</td>\n",
       "      <td>...</td>\n",
       "      <td>...</td>\n",
       "    </tr>\n",
       "    <tr>\n",
       "      <th>41936</th>\n",
       "      <td>2022-03-13 19:13:03</td>\n",
       "      <td>sport</td>\n",
       "      <td>Patrick Mahomes marries high school sweetheart...</td>\n",
       "      <td>(CNN)Kansas City Chiefs quarterback Patrick M...</td>\n",
       "    </tr>\n",
       "    <tr>\n",
       "      <th>41938</th>\n",
       "      <td>2022-03-13 17:32:43</td>\n",
       "      <td>sport</td>\n",
       "      <td>Chelsea FC: Dramatic late Havertz winner steal...</td>\n",
       "      <td>(CNN)After one of the most tumultuous weeks i...</td>\n",
       "    </tr>\n",
       "    <tr>\n",
       "      <th>41945</th>\n",
       "      <td>2022-03-11 11:46:05</td>\n",
       "      <td>sport</td>\n",
       "      <td>Tommy Fleetwood, Tom Hoge share early lead at ...</td>\n",
       "      <td>(CNN)England's Tommy Fleetwood and American T...</td>\n",
       "    </tr>\n",
       "    <tr>\n",
       "      <th>41961</th>\n",
       "      <td>2022-03-09 10:43:13</td>\n",
       "      <td>sport</td>\n",
       "      <td>Andy Murray to donate 2022 season prize money ...</td>\n",
       "      <td>(CNN)Andy Murray has pledged to donate the re...</td>\n",
       "    </tr>\n",
       "    <tr>\n",
       "      <th>42001</th>\n",
       "      <td>2022-03-04 17:41:08</td>\n",
       "      <td>sport</td>\n",
       "      <td>Obituary: Shane Warne was cricket's great show...</td>\n",
       "      <td>(CNN)Whether it was his bleach blonde hair or...</td>\n",
       "    </tr>\n",
       "  </tbody>\n",
       "</table>\n",
       "<p>4032 rows × 4 columns</p>\n",
       "</div>"
      ],
      "text/plain": [
       "            date published  category  \\\n",
       "4076   2021-07-15 02:46:59      news   \n",
       "4077   2021-05-12 07:52:09      news   \n",
       "4078   2021-06-16 02:51:30      news   \n",
       "4094   2022-03-03 05:17:39  business   \n",
       "4095   2022-02-01 10:44:06  business   \n",
       "...                    ...       ...   \n",
       "41936  2022-03-13 19:13:03     sport   \n",
       "41938  2022-03-13 17:32:43     sport   \n",
       "41945  2022-03-11 11:46:05     sport   \n",
       "41961  2022-03-09 10:43:13     sport   \n",
       "42001  2022-03-04 17:41:08     sport   \n",
       "\n",
       "                                                headline  \\\n",
       "4076   There's a shortage of truckers, but TuSimple t...   \n",
       "4077   Bioservo's robotic 'Ironhand' could protect fa...   \n",
       "4078   This swarm of robots gets smarter the more it ...   \n",
       "4094   India's young investors prefer crypto to gold ...   \n",
       "4095   India budget 2022: Digital rupee and crypto ta...   \n",
       "...                                                  ...   \n",
       "41936  Patrick Mahomes marries high school sweetheart...   \n",
       "41938  Chelsea FC: Dramatic late Havertz winner steal...   \n",
       "41945  Tommy Fleetwood, Tom Hoge share early lead at ...   \n",
       "41961  Andy Murray to donate 2022 season prize money ...   \n",
       "42001  Obituary: Shane Warne was cricket's great show...   \n",
       "\n",
       "                                                    text  \n",
       "4076    (CNN)Right now, there's a shortage of truck d...  \n",
       "4077    (CNN)Working in a factory or warehouse can me...  \n",
       "4078    (CNN)In a Hong Kong warehouse, a swarm of aut...  \n",
       "4094   New Delhi (CNN Business)Indian businesswoman S...  \n",
       "4095   New Delhi (CNN Business)India is planning to l...  \n",
       "...                                                  ...  \n",
       "41936   (CNN)Kansas City Chiefs quarterback Patrick M...  \n",
       "41938   (CNN)After one of the most tumultuous weeks i...  \n",
       "41945   (CNN)England's Tommy Fleetwood and American T...  \n",
       "41961   (CNN)Andy Murray has pledged to donate the re...  \n",
       "42001   (CNN)Whether it was his bleach blonde hair or...  \n",
       "\n",
       "[4032 rows x 4 columns]"
      ]
     },
     "execution_count": 5,
     "metadata": {},
     "output_type": "execute_result"
    }
   ],
   "source": [
    "# check duplicated\n",
    "print('Total Duplicated:', df.duplicated().sum())\n",
    "\n",
    "# review duplicated\n",
    "df[df.duplicated()]"
   ]
  },
  {
   "cell_type": "code",
   "execution_count": 6,
   "metadata": {},
   "outputs": [
    {
     "data": {
      "text/html": [
       "<div>\n",
       "<style scoped>\n",
       "    .dataframe tbody tr th:only-of-type {\n",
       "        vertical-align: middle;\n",
       "    }\n",
       "\n",
       "    .dataframe tbody tr th {\n",
       "        vertical-align: top;\n",
       "    }\n",
       "\n",
       "    .dataframe thead th {\n",
       "        text-align: right;\n",
       "    }\n",
       "</style>\n",
       "<table border=\"1\" class=\"dataframe\">\n",
       "  <thead>\n",
       "    <tr style=\"text-align: right;\">\n",
       "      <th></th>\n",
       "      <th>date published</th>\n",
       "      <th>category</th>\n",
       "      <th>headline</th>\n",
       "      <th>text</th>\n",
       "    </tr>\n",
       "  </thead>\n",
       "  <tbody>\n",
       "    <tr>\n",
       "      <th>0</th>\n",
       "      <td>2021-07-15 02:46:59</td>\n",
       "      <td>news</td>\n",
       "      <td>There's a shortage of truckers, but TuSimple t...</td>\n",
       "      <td>(CNN)Right now, there's a shortage of truck d...</td>\n",
       "    </tr>\n",
       "    <tr>\n",
       "      <th>4076</th>\n",
       "      <td>2021-07-15 02:46:59</td>\n",
       "      <td>news</td>\n",
       "      <td>There's a shortage of truckers, but TuSimple t...</td>\n",
       "      <td>(CNN)Right now, there's a shortage of truck d...</td>\n",
       "    </tr>\n",
       "  </tbody>\n",
       "</table>\n",
       "</div>"
      ],
      "text/plain": [
       "           date published category  \\\n",
       "0     2021-07-15 02:46:59     news   \n",
       "4076  2021-07-15 02:46:59     news   \n",
       "\n",
       "                                               headline  \\\n",
       "0     There's a shortage of truckers, but TuSimple t...   \n",
       "4076  There's a shortage of truckers, but TuSimple t...   \n",
       "\n",
       "                                                   text  \n",
       "0      (CNN)Right now, there's a shortage of truck d...  \n",
       "4076   (CNN)Right now, there's a shortage of truck d...  "
      ]
     },
     "execution_count": 6,
     "metadata": {},
     "output_type": "execute_result"
    }
   ],
   "source": [
    "# review one of the duplicate row\n",
    "df[df['headline'] == \"There's a shortage of truckers, but TuSimple thinks it has a solution: no driver needed - CNN\"]"
   ]
  },
  {
   "cell_type": "code",
   "execution_count": 7,
   "metadata": {},
   "outputs": [],
   "source": [
    "# drop duplicates\n",
    "df = df.drop_duplicates()"
   ]
  },
  {
   "cell_type": "markdown",
   "metadata": {},
   "source": [
    "Remove Outliers in Category column"
   ]
  },
  {
   "cell_type": "code",
   "execution_count": 8,
   "metadata": {},
   "outputs": [
    {
     "name": "stdout",
     "output_type": "stream",
     "text": [
      "Before Drop: \n",
      "news             18076\n",
      "sport            15791\n",
      "politics          3032\n",
      "business          1796\n",
      "health            1039\n",
      "world              820\n",
      "entertainment      562\n",
      "us                 317\n",
      "opinions           280\n",
      "weather            115\n",
      "travel              52\n",
      "style               16\n",
      "cnn                 11\n",
      "vr                   5\n",
      "Name: category, dtype: int64\n",
      "\n",
      "After Drop: \n",
      "news             18076\n",
      "sport            15791\n",
      "politics          3032\n",
      "business          1796\n",
      "health            1039\n",
      "world              820\n",
      "entertainment      562\n",
      "us                 317\n",
      "opinions           280\n",
      "weather            115\n",
      "Name: category, dtype: int64\n"
     ]
    }
   ],
   "source": [
    "# value counts Category\n",
    "category_counts = df['category'].value_counts()\n",
    "print(\"Before Drop: \")\n",
    "print(category_counts)\n",
    "\n",
    "# list of categories to remove\n",
    "categories_to_remove = ['travel', 'style', 'cnn', 'vr']\n",
    "\n",
    "# remove rows with specified categories\n",
    "df = df[~df['category'].isin(categories_to_remove)]\n",
    "\n",
    "# valuie counts Category column after removed\n",
    "category_counts_after_removal = df['category'].value_counts()\n",
    "print(\"\\nAfter Drop: \")\n",
    "print(category_counts_after_removal)"
   ]
  },
  {
   "cell_type": "markdown",
   "metadata": {},
   "source": [
    "Save to a new file "
   ]
  },
  {
   "cell_type": "code",
   "execution_count": 9,
   "metadata": {},
   "outputs": [],
   "source": [
    "# save the cleaned dataset to a new CSV file\n",
    "df.to_csv('Cleaned_News_Articles_Final.csv', index=False)"
   ]
  },
  {
   "cell_type": "markdown",
   "metadata": {},
   "source": [
    "Last check after cleaning"
   ]
  },
  {
   "cell_type": "code",
   "execution_count": 10,
   "metadata": {},
   "outputs": [
    {
     "name": "stdout",
     "output_type": "stream",
     "text": [
      "date published    3889\n",
      "category             0\n",
      "headline             0\n",
      "text                 0\n",
      "dtype: int64\n",
      "0\n",
      "(41828, 4)\n"
     ]
    }
   ],
   "source": [
    "import pandas as pd\n",
    "\n",
    "# read csv file\n",
    "df = pd.read_csv('Cleaned_News_Articles_Final.csv')\n",
    "\n",
    "# last check missing values \n",
    "print(df.isnull().sum())\n",
    "\n",
    "# last check duplicated\n",
    "print(df.duplicated().sum())\n",
    "\n",
    "# dimensions \n",
    "print(df.shape)"
   ]
  }
 ],
 "metadata": {
  "kernelspec": {
   "display_name": "base",
   "language": "python",
   "name": "python3"
  },
  "language_info": {
   "codemirror_mode": {
    "name": "ipython",
    "version": 3
   },
   "file_extension": ".py",
   "mimetype": "text/x-python",
   "name": "python",
   "nbconvert_exporter": "python",
   "pygments_lexer": "ipython3",
   "version": "3.11.9"
  }
 },
 "nbformat": 4,
 "nbformat_minor": 2
}
