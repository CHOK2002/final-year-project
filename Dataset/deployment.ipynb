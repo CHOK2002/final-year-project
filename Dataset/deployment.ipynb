{
 "cells": [
  {
   "cell_type": "markdown",
   "metadata": {},
   "source": [
    "Deployment by implementing Streamlit"
   ]
  },
  {
   "cell_type": "code",
   "execution_count": 3,
   "metadata": {},
   "outputs": [
    {
     "name": "stderr",
     "output_type": "stream",
     "text": [
      "c:\\Users\\ChokJoe\\anaconda3\\envs\\myenv\\Lib\\site-packages\\sklearn\\base.py:376: InconsistentVersionWarning: Trying to unpickle estimator TfidfTransformer from version 1.2.2 when using version 1.5.1. This might lead to breaking code or invalid results. Use at your own risk. For more info please refer to:\n",
      "https://scikit-learn.org/stable/model_persistence.html#security-maintainability-limitations\n",
      "  warnings.warn(\n",
      "c:\\Users\\ChokJoe\\anaconda3\\envs\\myenv\\Lib\\site-packages\\sklearn\\base.py:376: InconsistentVersionWarning: Trying to unpickle estimator TfidfVectorizer from version 1.2.2 when using version 1.5.1. This might lead to breaking code or invalid results. Use at your own risk. For more info please refer to:\n",
      "https://scikit-learn.org/stable/model_persistence.html#security-maintainability-limitations\n",
      "  warnings.warn(\n",
      "2024-07-20 19:05:32.022 \n",
      "  \u001b[33m\u001b[1mWarning:\u001b[0m to view this Streamlit app on a browser, run it with the following\n",
      "  command:\n",
      "\n",
      "    streamlit run c:\\Users\\ChokJoe\\anaconda3\\envs\\myenv\\Lib\\site-packages\\ipykernel_launcher.py [ARGUMENTS]\n",
      "2024-07-20 19:05:32.023 Session state does not function when running a script without `streamlit run`\n"
     ]
    }
   ],
   "source": [
    "import streamlit as st\n",
    "import joblib\n",
    "import pandas as pd\n",
    "import numpy as np\n",
    "import matplotlib.pyplot as plt\n",
    "from io import BytesIO\n",
    "from sklearn.feature_extraction.text import CountVectorizer\n",
    "from sklearn.preprocessing import LabelEncoder\n",
    "from sklearn.pipeline import Pipeline\n",
    "\n",
    "# Load your pre-trained models and vectorizer\n",
    "lr_model = joblib.load('5 Unsupervised Sentiment Analysis/lexicon_models_fextract/models/best_lr_model_afinn.pkl')\n",
    "count_vectorizer = joblib.load('5 Unsupervised Sentiment Analysis/lexicon_models_fextract/feature_extract/lr_tfidf_afinn.pkl')\n",
    "lda_model = joblib.load('7 Topics Modelling/lda_models_fetract/models/lda_bow_with_balance.pkl')\n",
    "lda_vectorizer = joblib.load('7 Topics Modelling/lda_models_fetract/feature_extract/bow_vectorizer_with_balance.pkl')\n",
    "\n",
    "# Define a function to predict sentiment\n",
    "def predict_sentiment(headline):\n",
    "    # Transform headline using the count_vectorizer\n",
    "    transformed_headline = count_vectorizer.transform([headline])\n",
    "    # Predict sentiment using the logistic regression model\n",
    "    sentiment = lr_model.predict(transformed_headline)\n",
    "    return sentiment[0]\n",
    "\n",
    "# Define a function to get topic information\n",
    "def get_topics(article):\n",
    "    # Transform article using the lda_vectorizer\n",
    "    transformed_article = lda_vectorizer.transform([article])\n",
    "    # Get the topic distribution\n",
    "    topic_distribution = lda_model.transform(transformed_article)\n",
    "    \n",
    "    # Colors for each topic\n",
    "    colors = plt.cm.tab10(np.linspace(0, 1, len(lda_model.components_)))\n",
    "    \n",
    "    # Plot top words for each topic\n",
    "    fig, axes = plt.subplots(2, 5, figsize=(15, 6), sharex=False, sharey=False)\n",
    "    axes = axes.flatten()\n",
    "    feature_names = lda_vectorizer.get_feature_names_out()\n",
    "    \n",
    "    for i, (topic, color) in enumerate(zip(lda_model.components_, colors)):\n",
    "        top_words_idx = np.argsort(topic)[::-1][:10]  # descending order\n",
    "        top_words = np.array(feature_names)[top_words_idx]\n",
    "        top_scores = topic[top_words_idx]\n",
    "\n",
    "        ax = axes[i]\n",
    "        ax.barh(top_words, top_scores, color=color)\n",
    "        ax.set_title(f'Topic {i}', fontsize=12, fontweight='bold')\n",
    "        ax.invert_yaxis()\n",
    "        ax.tick_params(axis='both', which='major', labelsize=10)\n",
    "        for spine in ax.spines.values():\n",
    "            spine.set_visible(False)\n",
    "\n",
    "    fig.suptitle('Top Words per Topic', fontsize=16)\n",
    "    plt.tight_layout(rect=[0, 0.03, 1, 0.95])\n",
    "    \n",
    "    # Save plot to BytesIO and display in Streamlit\n",
    "    buf = BytesIO()\n",
    "    plt.savefig(buf, format='png')\n",
    "    buf.seek(0)\n",
    "    plt.close(fig)\n",
    "    return buf\n",
    "\n",
    "# Streamlit UI\n",
    "st.title('News Headline and Article Analysis')\n",
    "\n",
    "# User input for headline\n",
    "headline = st.text_input('Enter a news headline:')\n",
    "if headline:\n",
    "    sentiment = predict_sentiment(headline)\n",
    "    st.write(f'Sentiment: {sentiment}')\n",
    "\n",
    "# User input for article\n",
    "article = st.text_area('Enter a news article text:')\n",
    "if article:\n",
    "    topics_plot = get_topics(article)\n",
    "    st.image(topics_plot)\n"
   ]
  }
 ],
 "metadata": {
  "kernelspec": {
   "display_name": "myenv",
   "language": "python",
   "name": "python3"
  },
  "language_info": {
   "codemirror_mode": {
    "name": "ipython",
    "version": 3
   },
   "file_extension": ".py",
   "mimetype": "text/x-python",
   "name": "python",
   "nbconvert_exporter": "python",
   "pygments_lexer": "ipython3",
   "version": "3.11.9"
  }
 },
 "nbformat": 4,
 "nbformat_minor": 2
}
