{
 "cells": [
  {
   "cell_type": "markdown",
   "metadata": {},
   "source": [
    "Data Exploring"
   ]
  },
  {
   "cell_type": "code",
   "execution_count": 1,
   "metadata": {},
   "outputs": [],
   "source": [
    "import pandas as pd\n",
    "\n",
    "# load the dataset\n",
    "df = pd.read_csv('News_Articles_Final.csv')"
   ]
  },
  {
   "cell_type": "code",
   "execution_count": 2,
   "metadata": {},
   "outputs": [
    {
     "name": "stdout",
     "output_type": "stream",
     "text": [
      "First 5 rows of the dataset:\n",
      "   Index                                             Author  \\\n",
      "0    0.0                                 Jacopo Prisco, CNN   \n",
      "1    2.0                              Stephanie Bailey, CNN   \n",
      "2    3.0  Words by Stephanie Bailey, video by Zahra Jamshed   \n",
      "3    4.0                    Paul R. La Monica, CNN Business   \n",
      "4    7.0                                            Reuters   \n",
      "\n",
      "        Date published  Category    Section  \\\n",
      "0  2021-07-15 02:46:59      news      world   \n",
      "1  2021-05-12 07:52:09      news      world   \n",
      "2  2021-06-16 02:51:30      news       asia   \n",
      "3  2022-03-15 09:57:36  business  investing   \n",
      "4  2022-03-15 11:27:02  business   business   \n",
      "\n",
      "                                                 Url  \\\n",
      "0  https://www.cnn.com/2021/07/14/world/tusimple-...   \n",
      "1  https://www.cnn.com/2021/05/12/world/ironhand-...   \n",
      "2  https://www.cnn.com/2021/06/15/asia/swarm-robo...   \n",
      "3  https://www.cnn.com/2022/03/15/investing/brics...   \n",
      "4  https://www.cnn.com/2022/03/15/business/russia...   \n",
      "\n",
      "                                            Headline  \\\n",
      "0  There's a shortage of truckers, but TuSimple t...   \n",
      "1  Bioservo's robotic 'Ironhand' could protect fa...   \n",
      "2  This swarm of robots gets smarter the more it ...   \n",
      "3  Russia is no longer an option for investors. T...   \n",
      "4  Russian energy investment ban part of new EU s...   \n",
      "\n",
      "                                         Description  \\\n",
      "0  The e-commerce boom has exacerbated a global t...   \n",
      "1  Working in a factory can mean doing the same t...   \n",
      "2  In a Hong Kong warehouse, a swarm of autonomou...   \n",
      "3  For many years, the world's most popular emerg...   \n",
      "4  The European Union formally approved on Tuesda...   \n",
      "\n",
      "                                            Keywords  \\\n",
      "0  world, There's a shortage of truckers, but TuS...   \n",
      "1  world, Bioservo's robotic 'Ironhand' could pro...   \n",
      "2  asia, This swarm of robots gets smarter the mo...   \n",
      "3  investing, Russia is no longer an option for i...   \n",
      "4  business, Russian energy investment ban part o...   \n",
      "\n",
      "                                     Second headline  \\\n",
      "0  There's a shortage of truckers, but TuSimple t...   \n",
      "1  A robotic 'Ironhand' could protect factory wor...   \n",
      "2  This swarm of robots gets smarter the more it ...   \n",
      "3  Russia is no longer an option for investors. T...   \n",
      "4  EU bans investment in Russian energy in new sa...   \n",
      "\n",
      "                                        Article text  Unnamed: 0  \n",
      "0   (CNN)Right now, there's a shortage of truck d...         NaN  \n",
      "1   (CNN)Working in a factory or warehouse can me...         NaN  \n",
      "2   (CNN)In a Hong Kong warehouse, a swarm of aut...         NaN  \n",
      "3  New York (CNN Business)For many years, the wor...         NaN  \n",
      "4  The European Union formally approved on Tuesda...         NaN  \n"
     ]
    }
   ],
   "source": [
    "# print firt 5 rows\n",
    "print(\"First 5 rows of the dataset:\")\n",
    "print(df.head())"
   ]
  },
  {
   "cell_type": "code",
   "execution_count": 3,
   "metadata": {},
   "outputs": [
    {
     "name": "stdout",
     "output_type": "stream",
     "text": [
      "Last 5 rows of the dataset:\n",
      "       Index Author Date published  Category Section  \\\n",
      "45948    NaN    NaN            NaN  politics     NaN   \n",
      "45949    NaN    NaN            NaN  politics     NaN   \n",
      "45950    NaN    NaN            NaN  politics     NaN   \n",
      "45951    NaN    NaN            NaN  politics     NaN   \n",
      "45952    NaN    NaN            NaN     world     NaN   \n",
      "\n",
      "                                                     Url  \\\n",
      "45948  https://edition.cnn.com/2023/01/01/politics/mc...   \n",
      "45949  https://edition.cnn.com/2023/02/04/politics/ch...   \n",
      "45950  https://edition.cnn.com/2023/02/03/politics/us...   \n",
      "45951  https://edition.cnn.com/2023/01/25/politics/ch...   \n",
      "45952  https://edition.cnn.com/2023/02/15/europe/russ...   \n",
      "\n",
      "                                                Headline  \\\n",
      "45948  McCarthy commits to key concession in call wit...   \n",
      "45949  What to know about the suspected Chinese spy b...   \n",
      "45950  Why the US hasn't shot down the suspected Chin...   \n",
      "45951  Chinese engineer sentenced to 8 years in US pr...   \n",
      "45952  Tensions mount at the Belarus-Ukraine border a...   \n",
      "\n",
      "                                             Description  \\\n",
      "45948  House GOP leader Kevin McCarthy outlined some ...   \n",
      "45949  A suspected Chinese surveillance balloon in th...   \n",
      "45950  As the US and its Canadian partners continue t...   \n",
      "45951  A former graduate student in Chicago was sente...   \n",
      "45952  Tensions are mounting at the border between Uk...   \n",
      "\n",
      "                                                Keywords Second headline  \\\n",
      "45948  domestic alerts, domestic-us politics, governm...             NaN   \n",
      "45949  asia, brand safety-nsf sensitive, brand safety...             NaN   \n",
      "45950                                                NaN             NaN   \n",
      "45951  armed forces, asia, brand safety-nsf crime, br...             NaN   \n",
      "45952  belarus, border control, brand safety-nsf sens...             NaN   \n",
      "\n",
      "                                            Article text  Unnamed: 0  \n",
      "45948  House GOP leader Kevin McCarthy outlined some ...      3924.0  \n",
      "45949  A suspected Chinese surveillance balloon in th...      3925.0  \n",
      "45950  As the US and its Canadian partners continue t...      3926.0  \n",
      "45951  A former graduate student in Chicago was sente...      3927.0  \n",
      "45952  Tensions are mounting at the border between Uk...      3928.0  \n"
     ]
    }
   ],
   "source": [
    "# print last 5 rows\n",
    "print(\"Last 5 rows of the dataset:\")\n",
    "print(df.tail())"
   ]
  },
  {
   "cell_type": "code",
   "execution_count": 4,
   "metadata": {},
   "outputs": [
    {
     "name": "stdout",
     "output_type": "stream",
     "text": [
      "The data shape (rows and columns):\n",
      "(45953, 12)\n"
     ]
    }
   ],
   "source": [
    "# print the dimensions \n",
    "print(\"The data shape (rows and columns):\")\n",
    "print(df.shape)"
   ]
  },
  {
   "cell_type": "code",
   "execution_count": 5,
   "metadata": {},
   "outputs": [
    {
     "name": "stdout",
     "output_type": "stream",
     "text": [
      "The data types of each columns:\n",
      "Index              float64\n",
      "Author              object\n",
      "Date published      object\n",
      "Category            object\n",
      "Section             object\n",
      "Url                 object\n",
      "Headline            object\n",
      "Description         object\n",
      "Keywords            object\n",
      "Second headline     object\n",
      "Article text        object\n",
      "Unnamed: 0         float64\n",
      "dtype: object\n"
     ]
    }
   ],
   "source": [
    "# print data types \n",
    "print(\"The data types of each columns:\")\n",
    "print(df.dtypes)"
   ]
  },
  {
   "cell_type": "code",
   "execution_count": 6,
   "metadata": {},
   "outputs": [
    {
     "name": "stdout",
     "output_type": "stream",
     "text": [
      "Information about each column:\n",
      "<class 'pandas.core.frame.DataFrame'>\n",
      "RangeIndex: 45953 entries, 0 to 45952\n",
      "Data columns (total 12 columns):\n",
      " #   Column           Non-Null Count  Dtype  \n",
      "---  ------           --------------  -----  \n",
      " 0   Index            42025 non-null  float64\n",
      " 1   Author           42025 non-null  object \n",
      " 2   Date published   42025 non-null  object \n",
      " 3   Category         45953 non-null  object \n",
      " 4   Section          42025 non-null  object \n",
      " 5   Url              45953 non-null  object \n",
      " 6   Headline         45953 non-null  object \n",
      " 7   Description      45949 non-null  object \n",
      " 8   Keywords         44811 non-null  object \n",
      " 9   Second headline  42025 non-null  object \n",
      " 10  Article text     45944 non-null  object \n",
      " 11  Unnamed: 0       3928 non-null   float64\n",
      "dtypes: float64(2), object(10)\n",
      "memory usage: 4.2+ MB\n",
      "None\n"
     ]
    }
   ],
   "source": [
    "# print information about each column (data type and non-null values)\n",
    "print(\"Information about each column:\")\n",
    "print(df.info())"
   ]
  },
  {
   "cell_type": "code",
   "execution_count": 7,
   "metadata": {},
   "outputs": [
    {
     "name": "stdout",
     "output_type": "stream",
     "text": [
      "Unique count in category column:\n",
      "Category\n",
      "news             19688\n",
      "sport            17965\n",
      "politics          3101\n",
      "business          1879\n",
      "health            1089\n",
      "world              820\n",
      "entertainment      615\n",
      "us                 317\n",
      "opinions           280\n",
      "weather            115\n",
      "travel              52\n",
      "style               16\n",
      "cnn                 11\n",
      "vr                   5\n",
      "Name: count, dtype: int64\n"
     ]
    }
   ],
   "source": [
    "# print each unique counts of the column (target values)\n",
    "print(\"Unique count in category column:\")\n",
    "print(df['Category'].value_counts())"
   ]
  },
  {
   "cell_type": "code",
   "execution_count": 8,
   "metadata": {},
   "outputs": [
    {
     "name": "stdout",
     "output_type": "stream",
     "text": [
      "Missing value counts across all columns:\n",
      "Index               3928\n",
      "Author              3928\n",
      "Date published      3928\n",
      "Category               0\n",
      "Section             3928\n",
      "Url                    0\n",
      "Headline               0\n",
      "Description            4\n",
      "Keywords            1142\n",
      "Second headline     3928\n",
      "Article text           9\n",
      "Unnamed: 0         42025\n",
      "dtype: int64\n"
     ]
    }
   ],
   "source": [
    "# check for any missing values \n",
    "print(\"Missing value counts across all columns:\")\n",
    "print(df.isnull().sum())"
   ]
  },
  {
   "cell_type": "code",
   "execution_count": 9,
   "metadata": {},
   "outputs": [
    {
     "name": "stdout",
     "output_type": "stream",
     "text": [
      "Duplicate data counts across all rows:\n",
      "2\n",
      "Duplicate data:\n",
      "      Index                    Author       Date published       Category  \\\n",
      "0       0.0        Jacopo Prisco, CNN  2021-07-15 02:46:59           news   \n",
      "47     57.0  Lisa Respers France, CNN  2022-03-14 19:54:44  entertainment   \n",
      "4076    0.0        Jacopo Prisco, CNN  2021-07-15 02:46:59           news   \n",
      "4133   57.0  Lisa Respers France, CNN  2022-03-14 19:54:44  entertainment   \n",
      "\n",
      "            Section                                                Url  \\\n",
      "0             world  https://www.cnn.com/2021/07/14/world/tusimple-...   \n",
      "47    entertainment  https://www.cnn.com/2022/03/14/entertainment/g...   \n",
      "4076          world  https://www.cnn.com/2021/07/14/world/tusimple-...   \n",
      "4133  entertainment  https://www.cnn.com/2022/03/14/entertainment/g...   \n",
      "\n",
      "                                               Headline  \\\n",
      "0     There's a shortage of truckers, but TuSimple t...   \n",
      "47    'The Gilded Age' reminds us that the Black eli...   \n",
      "4076  There's a shortage of truckers, but TuSimple t...   \n",
      "4133  'The Gilded Age' reminds us that the Black eli...   \n",
      "\n",
      "                                            Description  \\\n",
      "0     The e-commerce boom has exacerbated a global t...   \n",
      "47    The storyline of \"The Gilded Age\" begins less ...   \n",
      "4076  The e-commerce boom has exacerbated a global t...   \n",
      "4133  The storyline of \"The Gilded Age\" begins less ...   \n",
      "\n",
      "                                               Keywords  \\\n",
      "0     world, There's a shortage of truckers, but TuS...   \n",
      "47    entertainment, 'The Gilded Age' reminds us tha...   \n",
      "4076  world, There's a shortage of truckers, but TuS...   \n",
      "4133  entertainment, 'The Gilded Age' reminds us tha...   \n",
      "\n",
      "                                        Second headline  \\\n",
      "0     There's a shortage of truckers, but TuSimple t...   \n",
      "47    'The Gilded Age' reminds us that the Black eli...   \n",
      "4076  There's a shortage of truckers, but TuSimple t...   \n",
      "4133  'The Gilded Age' reminds us that the Black eli...   \n",
      "\n",
      "                                           Article text  Unnamed: 0  \n",
      "0      (CNN)Right now, there's a shortage of truck d...         NaN  \n",
      "47     (CNN)The storyline of \"The Gilded Age\" begins...         NaN  \n",
      "4076   (CNN)Right now, there's a shortage of truck d...         NaN  \n",
      "4133   (CNN)The storyline of \"The Gilded Age\" begins...         NaN  \n"
     ]
    }
   ],
   "source": [
    "# check for any duplication\n",
    "print(\"Duplicate data counts across all rows:\")\n",
    "print(df.duplicated().sum())\n",
    "\n",
    "# filter  the dataFrame for duplicate rows\n",
    "duplicate_rows = df[df.duplicated(keep=False)]\n",
    "\n",
    "# print the duplicate data\n",
    "print(\"Duplicate data:\")\n",
    "print(duplicate_rows)"
   ]
  },
  {
   "cell_type": "code",
   "execution_count": 10,
   "metadata": {},
   "outputs": [
    {
     "data": {
      "text/html": [
       "<div>\n",
       "<style scoped>\n",
       "    .dataframe tbody tr th:only-of-type {\n",
       "        vertical-align: middle;\n",
       "    }\n",
       "\n",
       "    .dataframe tbody tr th {\n",
       "        vertical-align: top;\n",
       "    }\n",
       "\n",
       "    .dataframe thead th {\n",
       "        text-align: right;\n",
       "    }\n",
       "</style>\n",
       "<table border=\"1\" class=\"dataframe\">\n",
       "  <thead>\n",
       "    <tr style=\"text-align: right;\">\n",
       "      <th></th>\n",
       "      <th>Index</th>\n",
       "      <th>Author</th>\n",
       "      <th>Date published</th>\n",
       "      <th>Category</th>\n",
       "      <th>Section</th>\n",
       "      <th>Url</th>\n",
       "      <th>Headline</th>\n",
       "      <th>Description</th>\n",
       "      <th>Keywords</th>\n",
       "      <th>Second headline</th>\n",
       "      <th>Article text</th>\n",
       "      <th>Unnamed: 0</th>\n",
       "    </tr>\n",
       "  </thead>\n",
       "  <tbody>\n",
       "    <tr>\n",
       "      <th>0</th>\n",
       "      <td>0.0</td>\n",
       "      <td>Jacopo Prisco, CNN</td>\n",
       "      <td>2021-07-15 02:46:59</td>\n",
       "      <td>news</td>\n",
       "      <td>world</td>\n",
       "      <td>https://www.cnn.com/2021/07/14/world/tusimple-...</td>\n",
       "      <td>There's a shortage of truckers, but TuSimple t...</td>\n",
       "      <td>The e-commerce boom has exacerbated a global t...</td>\n",
       "      <td>world, There's a shortage of truckers, but TuS...</td>\n",
       "      <td>There's a shortage of truckers, but TuSimple t...</td>\n",
       "      <td>(CNN)Right now, there's a shortage of truck d...</td>\n",
       "      <td>NaN</td>\n",
       "    </tr>\n",
       "    <tr>\n",
       "      <th>4076</th>\n",
       "      <td>0.0</td>\n",
       "      <td>Jacopo Prisco, CNN</td>\n",
       "      <td>2021-07-15 02:46:59</td>\n",
       "      <td>news</td>\n",
       "      <td>world</td>\n",
       "      <td>https://www.cnn.com/2021/07/14/world/tusimple-...</td>\n",
       "      <td>There's a shortage of truckers, but TuSimple t...</td>\n",
       "      <td>The e-commerce boom has exacerbated a global t...</td>\n",
       "      <td>world, There's a shortage of truckers, but TuS...</td>\n",
       "      <td>There's a shortage of truckers, but TuSimple t...</td>\n",
       "      <td>(CNN)Right now, there's a shortage of truck d...</td>\n",
       "      <td>NaN</td>\n",
       "    </tr>\n",
       "  </tbody>\n",
       "</table>\n",
       "</div>"
      ],
      "text/plain": [
       "      Index              Author       Date published Category Section  \\\n",
       "0       0.0  Jacopo Prisco, CNN  2021-07-15 02:46:59     news   world   \n",
       "4076    0.0  Jacopo Prisco, CNN  2021-07-15 02:46:59     news   world   \n",
       "\n",
       "                                                    Url  \\\n",
       "0     https://www.cnn.com/2021/07/14/world/tusimple-...   \n",
       "4076  https://www.cnn.com/2021/07/14/world/tusimple-...   \n",
       "\n",
       "                                               Headline  \\\n",
       "0     There's a shortage of truckers, but TuSimple t...   \n",
       "4076  There's a shortage of truckers, but TuSimple t...   \n",
       "\n",
       "                                            Description  \\\n",
       "0     The e-commerce boom has exacerbated a global t...   \n",
       "4076  The e-commerce boom has exacerbated a global t...   \n",
       "\n",
       "                                               Keywords  \\\n",
       "0     world, There's a shortage of truckers, but TuS...   \n",
       "4076  world, There's a shortage of truckers, but TuS...   \n",
       "\n",
       "                                        Second headline  \\\n",
       "0     There's a shortage of truckers, but TuSimple t...   \n",
       "4076  There's a shortage of truckers, but TuSimple t...   \n",
       "\n",
       "                                           Article text  Unnamed: 0  \n",
       "0      (CNN)Right now, there's a shortage of truck d...         NaN  \n",
       "4076   (CNN)Right now, there's a shortage of truck d...         NaN  "
      ]
     },
     "execution_count": 10,
     "metadata": {},
     "output_type": "execute_result"
    }
   ],
   "source": [
    "# review one of the duplicate row\n",
    "pd.set_option('display.max_rows', None)\n",
    "\n",
    "df[df['Headline'] == \"There's a shortage of truckers, but TuSimple thinks it has a solution: no driver needed - CNN\"]"
   ]
  },
  {
   "cell_type": "code",
   "execution_count": null,
   "metadata": {},
   "outputs": [],
   "source": []
  }
 ],
 "metadata": {
  "kernelspec": {
   "display_name": "base",
   "language": "python",
   "name": "python3"
  },
  "language_info": {
   "codemirror_mode": {
    "name": "ipython",
    "version": 3
   },
   "file_extension": ".py",
   "mimetype": "text/x-python",
   "name": "python",
   "nbconvert_exporter": "python",
   "pygments_lexer": "ipython3",
   "version": "3.11.9"
  }
 },
 "nbformat": 4,
 "nbformat_minor": 2
}
